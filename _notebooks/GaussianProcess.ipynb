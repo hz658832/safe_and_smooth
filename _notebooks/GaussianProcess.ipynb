{
 "cells": [
  {
   "cell_type": "code",
   "execution_count": null,
   "id": "2a616c62",
   "metadata": {},
   "outputs": [],
   "source": [
    "%matplotlib widget\n",
    "\n",
    "import numpy as np\n",
    "import matplotlib.pylab as plt\n",
    "%reload_ext autoreload\n",
    "%autoreload 2\n",
    "\n",
    "plt.rcParams.update({\n",
    "    \"text.usetex\": True\n",
    "})\n",
    "\n",
    "\n",
    "np.set_printoptions(precision=2)"
   ]
  },
  {
   "cell_type": "code",
   "execution_count": null,
   "id": "42647620",
   "metadata": {},
   "outputs": [],
   "source": [
    "from problem import Problem\n",
    "\n",
    "from plotting_tools import plot_setup\n",
    "from simulation import generate_anchors, generate_random_trajectory, generate_distances\n",
    "\n",
    "np.random.seed(2)\n",
    "N = 5\n",
    "K = 3\n",
    "d = 2\n",
    "prob = Problem(N=N, K=K, d=d, sigma_acc_est=0.2, sigma_dist_est=0.01)\n",
    "prob.generate_random(sigma_acc_real=0.2, sigma_dist_real=0.01)\n",
    "plot_setup(prob.trajectory, prob.anchors)"
   ]
  },
  {
   "cell_type": "markdown",
   "id": "44b229db",
   "metadata": {},
   "source": [
    "# Gaussian process estimation"
   ]
  },
  {
   "cell_type": "code",
   "execution_count": null,
   "id": "93b835ba",
   "metadata": {},
   "outputs": [],
   "source": [
    "from plotting_tools import plot_covariance\n",
    "from gauss_newton import gauss_newton\n",
    "\n",
    "regularization = \"constant-velocity\"; k = prob.d * 2\n",
    "theta_0 = prob.gt_init(regularization)\n",
    "theta_hat, stats = gauss_newton(theta_0, prob, regularization=regularization)\n",
    "\n",
    "from scipy.sparse.linalg import inv\n",
    "K_post_inv = stats[\"cov\"]\n",
    "K_post = inv(K_post_inv)\n",
    "\n",
    "scaling = 1e2\n",
    "fig, ax = plt.subplots()\n",
    "ax.scatter(*theta_hat[:, :d].T, color=\"C1\", label=\"measurement points\")\n",
    "for i in range(prob.N):\n",
    "    x = theta_hat[i, :prob.d]\n",
    "    plot_covariance(K_post[i*k:i*k+d, i*k:i*k+d].toarray(), x, scaling, ax, facecolor='C2', alpha=0.5)\n",
    "ax.axis(\"equal\")"
   ]
  },
  {
   "cell_type": "markdown",
   "id": "d3425085",
   "metadata": {},
   "source": [
    "# Gaussian process interpolation\n",
    "\n",
    "## TODO: covariance interpolation is not working yet"
   ]
  },
  {
   "cell_type": "code",
   "execution_count": null,
   "id": "af866c6b",
   "metadata": {},
   "outputs": [],
   "source": [
    "from gaussian_process import query_trajectory, get_prior_covariances\n",
    "\n",
    "\n",
    "K_prior_ii, K_prior_ij = get_prior_covariances(prob, regularization)\n",
    "[print(np.linalg.eigvalsh(K)[0]) for K in K_prior_ii]\n",
    "[print(np.linalg.eigvalsh(K)[0]) for K in K_prior_ij]\n",
    "K_post_inv = stats[\"cov\"]\n",
    "\n",
    "print(np.linalg.eigvalsh(K_post.toarray())[0])\n",
    "np.testing.assert_allclose(inv(K_post).toarray(), K_post_inv.toarray(), rtol=1e-10, atol=1e-10)\n",
    "\n",
    "fig, ax = plt.subplots()\n",
    "ax.scatter(*theta_hat[:, :d].T, color=\"C1\", label=\"measurement points\")\n",
    "ax.scatter(*theta_hat[0, :d], color=\"C2\", marker=\".\", label=\"interpolation points\")\n",
    "scaling = 2# heuristic\n",
    "for tau in np.arange(prob.times[0], prob.times[-1], step=0.1):\n",
    "    x_tau, K_tau = query_trajectory(tau, prob, theta_hat, regularization=regularization, return_covariance=True,\n",
    "                                    K_prior_ii=K_prior_ii, K_prior_ij=K_prior_ij, K_post=K_post)\n",
    "    #print(np.linalg.eigvalsh(K_tau[:d, :d]))\n",
    "    plot_covariance(K_tau[:d, :d], x_tau[:d], scaling, ax, facecolor='C2', alpha=0.5)\n",
    "ax.legend()\n",
    "ax.axis(\"equal\")"
   ]
  },
  {
   "cell_type": "code",
   "execution_count": null,
   "id": "b1c1175b",
   "metadata": {
    "scrolled": true
   },
   "outputs": [],
   "source": []
  },
  {
   "cell_type": "code",
   "execution_count": null,
   "id": "3aec7828",
   "metadata": {},
   "outputs": [],
   "source": []
  }
 ],
 "metadata": {
  "kernelspec": {
   "display_name": "Python 3 (ipykernel)",
   "language": "python",
   "name": "python3"
  },
  "language_info": {
   "codemirror_mode": {
    "name": "ipython",
    "version": 3
   },
   "file_extension": ".py",
   "mimetype": "text/x-python",
   "name": "python",
   "nbconvert_exporter": "python",
   "pygments_lexer": "ipython3",
   "version": "3.8.10"
  },
  "vscode": {
   "interpreter": {
    "hash": "96e898512084134300e95716e617877667fbd7724745c0e8ba2f3d39953f6541"
   }
  }
 },
 "nbformat": 4,
 "nbformat_minor": 5
}
